{
  "nbformat": 4,
  "nbformat_minor": 0,
  "metadata": {
    "colab": {
      "provenance": [],
      "include_colab_link": true
    },
    "kernelspec": {
      "name": "python3",
      "display_name": "Python 3"
    },
    "language_info": {
      "name": "python"
    }
  },
  "cells": [
    {
      "cell_type": "markdown",
      "metadata": {
        "id": "view-in-github",
        "colab_type": "text"
      },
      "source": [
        "<a href=\"https://colab.research.google.com/github/CaioMartinss/exer-python/blob/main/procedimento_funcoes.ipynb\" target=\"_parent\"><img src=\"https://colab.research.google.com/assets/colab-badge.svg\" alt=\"Open In Colab\"/></a>"
      ]
    },
    {
      "cell_type": "markdown",
      "source": [
        "**Exercício 1**  :\n",
        "\n",
        "Escreva uma função que recebe por parâmetro o raio de uma esfera e calcula o seu\n",
        "volume (v = 4/3*PI. R3\n",
        ")."
      ],
      "metadata": {
        "id": "4vqcWP_ZZkV3"
      }
    },
    {
      "cell_type": "code",
      "source": [
        "import math\n",
        "\n",
        "def calcular_volume_esfera(raio):\n",
        "    if raio < 0:\n",
        "        raise ValueError(\"O raio da esfera não pode ser negativo.\")\n",
        "\n",
        "    volume = (4/3) * math.pi * raio**3\n",
        "    return volume\n",
        "\n",
        "# Exemplo de uso da função\n",
        "raio_esfera = float(input(\"Digite o raio da esfera: \"))\n",
        "volume_resultante = calcular_volume_esfera(raio_esfera)\n",
        "\n",
        "print(f\"O volume da esfera com raio {raio_esfera} é: {volume_resultante}\")\n",
        "\n"
      ],
      "metadata": {
        "id": "EtdPRc4nZj1Q"
      },
      "execution_count": null,
      "outputs": []
    },
    {
      "cell_type": "markdown",
      "source": [
        "**Exercício 2** :\n",
        "\n",
        "Escreva um procedimento que recebe as 3 notas de um aluno por parâmetro e uma letra.\n",
        "Se a letra for A o procedimento calcula a média aritmética das notas do aluno, se for P, a\n",
        "sua média ponderada (pesos: 5, 3 e 2) e se for H, a sua média harmônica. A média\n",
        "calculada também deve retornar por parâmetro.\n",
        "\n"
      ],
      "metadata": {
        "id": "USM8lGHF1Ipe"
      }
    },
    {
      "cell_type": "code",
      "source": [
        "def calcular_medias_notas(nota1, nota2, nota3, letra):\n",
        "    if letra not in ['A', 'P', 'H']:\n",
        "        raise ValueError(\"A letra deve ser A, P ou H.\")\n",
        "\n",
        "    if letra == 'A':\n",
        "        # Média aritmética\n",
        "        media = (nota1 + nota2 + nota3) / 3\n",
        "        print(f\"A média Aritmética é: \")\n",
        "    elif letra == 'P':\n",
        "        # Média ponderada (pesos: 5, 3, 2)\n",
        "        media = (5 * nota1 + 3 * nota2 + 2 * nota3) / 10\n",
        "        print(f\"A média Ponderada é: \")\n",
        "    elif letra == 'H':\n",
        "        # Média harmônica\n",
        "        media = 3 / ((1/nota1) + (1/nota2) + (1/nota3))\n",
        "        print(f\"A média harmônica é: \" )\n",
        "\n",
        "    return media\n",
        "\n",
        "# Exemplo de uso do procedimento\n",
        "nota1_aluno = float(input(\"Digite a primeira nota: \"))\n",
        "nota2_aluno = float(input(\"Digite a segunda nota: \"))\n",
        "nota3_aluno = float(input(\"Digite a terceira nota: \\n\"))\n",
        "letra_calculo = input(\"Digite a letra (A para média aritmética, P para média ponderada, H para média harmônica): \\n\").upper()\n",
        "\n",
        "resultado_media = calcular_medias_notas(nota1_aluno, nota2_aluno, nota3_aluno, letra_calculo)\n",
        "\n",
        "print(f\" {resultado_media}\")\n"
      ],
      "metadata": {
        "id": "WC7hxVBw1Yrr"
      },
      "execution_count": null,
      "outputs": []
    },
    {
      "cell_type": "markdown",
      "source": [
        "**Exercíco 3**\n",
        "\n",
        "Escreva um procedimento que recebe a idade de um nadador por parâmetro e retorna,\n",
        "também por parâmetro, a categoria desse nadador de acordo com a tabela abaixo:\n",
        "\n",
        "| Idade                | Categoria    |\n",
        "|----------------------|--------------|\n",
        "| 5 a 7 anos           | Infantil A   |\n",
        "| 8 a 10 anos          | Infantil B   |\n",
        "| 11 a 13 anos         | Juvenil A    |\n",
        "| 14 a 17 anos         | Juvenil B    |\n",
        "| Maiores de 18 anos   | Adulto       |"
      ],
      "metadata": {
        "id": "Ta4xpyST8G3Q"
      }
    },
    {
      "cell_type": "code",
      "source": [
        "def determinar_categoria(idade):\n",
        "    if 5 <= idade <= 7:\n",
        "        return \"Infantil A\"\n",
        "    elif 8 <= idade <= 10:\n",
        "        return \"Infantil B\"\n",
        "    elif 11 <= idade <= 13:\n",
        "        return \"Juvenil A\"\n",
        "    elif 14 <= idade <= 17:\n",
        "        return \"Juvenil B\"\n",
        "    elif idade >= 18:\n",
        "        return \"Adulto\"\n",
        "    else:\n",
        "        raise ValueError(\"Idade inválida\")\n",
        "\n",
        "# Exemplo de uso do procedimento\n",
        "try:\n",
        "    idade_nadador = int(input(\"Digite a idade do nadador: \"))\n",
        "    categoria_nadador = determinar_categoria(idade_nadador)\n",
        "    print(f\"A categoria do nadador é: {categoria_nadador}\")\n",
        "except ValueError as e:\n",
        "    print(f\"Erro: {e}\")\n"
      ],
      "metadata": {
        "id": "WECky9C28xFf"
      },
      "execution_count": null,
      "outputs": []
    },
    {
      "cell_type": "markdown",
      "source": [
        "**Exercício 4** :\n",
        "\n",
        "Escreva uma função que recebe um valor inteiro e verifica se o valor é positivo ou\n",
        "negativo. A função deve retornar um valor booleano."
      ],
      "metadata": {
        "id": "paAT8XqE_wLb"
      }
    },
    {
      "cell_type": "code",
      "source": [
        "def funcao_verifica_zero(valor):\n",
        "    if valor == 0:\n",
        "        print(\"Digite um valor diferente de 0\")\n",
        "        return None  # Adiciona o retorno None se o valor for zero\n",
        "    else:\n",
        "        return True\n",
        "\n",
        "def verificar_positivo_negativo(valor):\n",
        "    if valor > 0:\n",
        "        return True\n",
        "    elif valor < 0:\n",
        "        return False\n",
        "    else:\n",
        "        return None  # Adiciona retorno None para indicar que o valor não é nem positivo nem negativo\n",
        "\n",
        "# Exemplo de uso da função\n",
        "try:\n",
        "    valor_teste = int(input(\"Digite um valor inteiro: \"))\n",
        "\n",
        "    resultado_verificacao = funcao_verifica_zero(valor_teste)\n",
        "\n",
        "    if resultado_verificacao is not None:\n",
        "        if verificar_positivo_negativo(valor_teste):\n",
        "            print(\"O valor é positivo.\")\n",
        "        else:\n",
        "            print(\"O valor é negativo.\")\n",
        "    else:\n",
        "        print(\"O valor é zero.\")\n",
        "\n",
        "except ValueError:\n",
        "    print(\"Por favor, digite um valor inteiro válido.\")\n"
      ],
      "metadata": {
        "id": "ldHZeh-x_5hp"
      },
      "execution_count": null,
      "outputs": []
    },
    {
      "cell_type": "markdown",
      "source": [
        "**Exercício 5** :\n",
        "\n",
        "Escreva uma função que recebe um valor inteiro e verifica se o valor é par ou ímpar. A\n",
        "função deve retornar um valor booleano.\n"
      ],
      "metadata": {
        "id": "twzj3rxzGkaF"
      }
    },
    {
      "cell_type": "code",
      "source": [
        "def verificar_par_impar(valor):\n",
        "    return valor % 2 == 0\n",
        "\n",
        "# Exemplo de uso da função\n",
        "try:\n",
        "    valor_teste = int(input(\"Digite um valor inteiro: \"))\n",
        "    resultado_verificacao = verificar_par_impar(valor_teste)\n",
        "\n",
        "    if resultado_verificacao:\n",
        "        print(\"O valor é par.\")\n",
        "    else:\n",
        "        print(\"O valor é ímpar.\")\n",
        "\n",
        "except ValueError:\n",
        "    print(\"Por favor, digite um valor inteiro válido.\")\n"
      ],
      "metadata": {
        "id": "7nbrFrawG6q1"
      },
      "execution_count": null,
      "outputs": []
    },
    {
      "cell_type": "markdown",
      "source": [
        "**Exercício 6** :\n",
        "\n",
        "Escreva um procedimento que recebe, por parâmetro, um valor N e calcula e escreve a\n",
        "tabuada de 1 até N. Mostre a tabuada na forma:\n",
        "\n",
        "1 x N = N\n",
        "\n",
        "2 x N = 2N"
      ],
      "metadata": {
        "id": "3jgbpdNYcTAE"
      }
    },
    {
      "cell_type": "code",
      "source": [
        "def calcular_e_mostrar_tabuada(n):\n",
        "  if n <= 0:\n",
        "    print(\"digte um valor válido\")\n",
        "  else:\n",
        "      for i in range(1, n + 1):\n",
        "        resultado = i * n\n",
        "        print(f\"{i} x {n} = {resultado}\")\n",
        "\n",
        "# Exemplo de uso do procedimento\n",
        "try:\n",
        "    valor_n = int(input(\"Digite um valor para calcular a tabuada: \"))\n",
        "    calcular_e_mostrar_tabuada(valor_n)\n",
        "except ValueError:\n",
        "    print(\"Por favor, digite um valor inteiro válido.\")\n"
      ],
      "metadata": {
        "id": "HKe13YBpcYZk"
      },
      "execution_count": null,
      "outputs": []
    },
    {
      "cell_type": "markdown",
      "source": [
        "**Exercício 7** :\n",
        "\n",
        "Escreva uma função que recebe por parâmetro um valor inteiro e positivo N e retorna o\n",
        "valor de S\n",
        "\n",
        "S = 1 + ½ + 1/3 + ¼ + 1/5 + 1/N.\n"
      ],
      "metadata": {
        "id": "SIWoIC9de9PI"
      }
    },
    {
      "cell_type": "code",
      "source": [
        "def calcular_s(n):\n",
        "    if n <= 0:\n",
        "        raise ValueError(\"O valor de N deve ser um número inteiro e positivo.\")\n",
        "\n",
        "    s = 0\n",
        "    for i in range(1, n + 1):\n",
        "        s += 1 / i\n",
        "\n",
        "    return s\n",
        "\n",
        "# Exemplo de uso da função\n",
        "try:\n",
        "    valor_n = int(input(\"Digite um valor inteiro e positivo N: \"))\n",
        "    resultado_s = calcular_s(valor_n)\n",
        "    print(f\"O valor de S para N = {valor_n} é: {resultado_s:.6f}\")\n",
        "except ValueError as e:\n",
        "    print(f\"Erro: {e}\")\n",
        "except Exception as e:\n",
        "    print(f\"Ocorreu um erro: {e}\")\n"
      ],
      "metadata": {
        "id": "tY5CEohEflCV"
      },
      "execution_count": null,
      "outputs": []
    },
    {
      "cell_type": "markdown",
      "source": [
        "**Exercício 8** :\n",
        "\n",
        "Escreva uma função que recebe por parâmetro um valor inteiro e positivo N e retorna o\n",
        "valor de S.\n",
        "\n",
        "S = 2/4 + 5/5 + 10/6 + 17/7 + 26/8 + ... +(n2+1)/(n+3)"
      ],
      "metadata": {
        "id": "plipr65Agxqg"
      }
    },
    {
      "cell_type": "code",
      "source": [
        "def calcular_s(n):\n",
        "    if n <= 0:\n",
        "        raise ValueError(\"O valor de N deve ser um número inteiro e positivo.\")\n",
        "\n",
        "    s = 0\n",
        "    for i in range(1, n + 1):\n",
        "        numerador = (i**2) + 1\n",
        "        denominador = i + 3\n",
        "        s += numerador / denominador\n",
        "\n",
        "    return s\n",
        "\n",
        "# Exemplo de uso da função\n",
        "try:\n",
        "    valor_n = int(input(\"Digite um valor inteiro e positivo N: \"))\n",
        "    resultado_s = calcular_s(valor_n)\n",
        "    print(f\"O valor de S para N = {valor_n} é: {resultado_s:.6f}\")\n",
        "except ValueError as e:\n",
        "    print(f\"Erro: {e}\")\n",
        "except Exception as e:\n",
        "    print(f\"Ocorreu um erro: {e}\")\n"
      ],
      "metadata": {
        "id": "_mdzIItxhGQ1"
      },
      "execution_count": null,
      "outputs": []
    },
    {
      "cell_type": "markdown",
      "source": [
        "**Exercíco 9** :\n",
        "\n",
        "Escreva um procedimento que recebes 3 valores reais X, Y e Z e que verifique se esses\n",
        "valores podem ser os comprimentos dos lados de um triângulo e, neste caso, retornar qual\n",
        "o tipo de triângulo formado. Para que X, Y e Z formem um triângulo é necessário que a\n",
        "seguinte propriedade seja satisfeita: o comprimento de cada lado de um triângulo é menor\n",
        "do que a soma do comprimento dos outros dois lados. O procedimento deve identificar o\n",
        "tipo de triângulo formado observando as seguintes definições:\n",
        "\n",
        "\n",
        "\n",
        "*   Triângulo Equilátero: os comprimentos dos 3 lados são iguais.\n",
        "*   Triângulo Isósceles: os comprimentos de 2 lados são iguais.\n",
        "*   Triângulo Escaleno: os comprimentos dos 3 lados são diferentes.\n",
        "\n",
        "\n"
      ],
      "metadata": {
        "id": "JC79v2ZwCK-G"
      }
    },
    {
      "cell_type": "code",
      "source": [
        "def verificar_tipo_triangulo(x, y, z):\n",
        "    if x <= 0 or y <= 0 or z <= 0:\n",
        "        return \"Os valores dos lados devem ser positivos.\"\n",
        "\n",
        "    # Verifica se os lados podem formar um triângulo\n",
        "    if x + y > z and x + z > y and y + z > x:\n",
        "        # Verifica o tipo de triângulo\n",
        "        if x == y == z:\n",
        "            return \"Triângulo Equilátero\"\n",
        "        elif x == y or x == z or y == z:\n",
        "            return \"Triângulo Isósceles\"\n",
        "        else:\n",
        "            return \"Triângulo Escaleno\"\n",
        "    else:\n",
        "        return \"Os valores dos lados não formam um triângulo.\"\n",
        "\n",
        "# Exemplo de uso do procedimento\n",
        "try:\n",
        "    valor_x = float(input(\"Digite o comprimento do lado X: \"))\n",
        "    valor_y = float(input(\"Digite o comprimento do lado Y: \"))\n",
        "    valor_z = float(input(\"Digite o comprimento do lado Z: \"))\n",
        "\n",
        "    resultado_tipo_triangulo = verificar_tipo_triangulo(valor_x, valor_y, valor_z)\n",
        "    print(resultado_tipo_triangulo)\n",
        "except ValueError:\n",
        "    print(\"Por favor, digite valores reais válidos.\")\n",
        "except Exception as e:\n",
        "    print(f\"Ocorreu um erro: {e}\")\n"
      ],
      "metadata": {
        "id": "loXZ9-vbCvDU"
      },
      "execution_count": null,
      "outputs": []
    },
    {
      "cell_type": "markdown",
      "source": [
        "**Exercíco 10 - Calculadora**\n",
        "\n",
        "**Regras:**\n",
        "\n",
        "\n",
        "*   Crie uma sub-rotina para criar o menu de opções;\n",
        "*   Crie sub-rotinas para calcular cada uma das quatro operações solicitadas;\n",
        "*   O programa principal deverá fazer as chamadas para estas sub-rotinas."
      ],
      "metadata": {
        "id": "2Lzessy2dwqe"
      }
    },
    {
      "cell_type": "code",
      "execution_count": null,
      "metadata": {
        "id": "pvBnBuNGcQBb"
      },
      "outputs": [],
      "source": [
        "while True:\n",
        "    print(\"Seja Bem-vindo\\n\")\n",
        "    print(\"Para começar, escolha um tipo de operação:\\n\")\n",
        "\n",
        "    # Menu de opções\n",
        "    print(\"+ : Adição\")\n",
        "    print(\"- : Subtração\")\n",
        "    print(\"* : Multiplicação\")\n",
        "    print(\"/ : Divisão\\n\")\n",
        "\n",
        "    # Solicitar que o usuário escolha uma opção\n",
        "    opcao = input(\"Escolha uma opção: \")\n",
        "    print(\"\\n\")\n",
        "\n",
        "    # Receber dois números do usuário por meio de input\n",
        "    n1 = float(input(\"Digite o primeiro valor: \"))\n",
        "    n2 = float(input(\"Digite o segundo valor: \"))\n",
        "\n",
        "    # Inicializar o resultado\n",
        "    resultado = None\n",
        "\n",
        "    # Calcular adição, subtração, multiplicação e divisão\n",
        "    if opcao == \"+\":\n",
        "        resultado = n1 + n2\n",
        "        print(f\"O resultado da soma entre {n1} e {n2} é: {resultado}\")\n",
        "    elif opcao == \"-\":\n",
        "        resultado = n1 - n2\n",
        "        print(f\"O resultado da subtração entre {n1} e {n2} é: {resultado}\")\n",
        "    elif opcao == \"*\":\n",
        "        resultado = n1 * n2\n",
        "        print(f\"O resultado da multiplicação entre {n1} e {n2} é: {resultado}\")\n",
        "    elif opcao == \"/\":\n",
        "        if n2 == 0:\n",
        "            print(\"Erro: Não é possível dividir por zero.\")\n",
        "        elif n1 < n2:\n",
        "            print(f\"{n1} precisa ser maior do que {n2}\")\n",
        "        else:\n",
        "            resultado = n1 / n2\n",
        "            print(f\"O resultado da divisão entre {n1} e {n2} é: {resultado}\")\n",
        "    else:\n",
        "        print(\"Opção inválida.\")\n",
        "\n",
        "    # Exibir o resultado, se uma operação válida foi escolhida\n",
        "    print(\"\\n========================\")\n",
        "    resposta = input(\"Fazer outra operação (S/N)? \").upper()\n",
        "\n",
        "    if resposta != 'S':\n",
        "        print(\"Saindo do programa.\")\n",
        "        break  # Sai do loop se o usuário não quiser mais operações\n"
      ]
    }
  ]
}